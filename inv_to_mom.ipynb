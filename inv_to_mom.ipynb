{
 "cells": [
  {
   "cell_type": "markdown",
   "id": "869926ea",
   "metadata": {
    "vscode": {
     "languageId": "plaintext"
    }
   },
   "source": [
    "### Reconstruct momena (4-vectors) from Mandelstam-like invariants"
   ]
  },
  {
   "cell_type": "code",
   "execution_count": 40,
   "id": "df536ff5",
   "metadata": {},
   "outputs": [],
   "source": [
    "import numpy as np\n",
    "from scipy.optimize import root"
   ]
  },
  {
   "cell_type": "code",
   "execution_count": 41,
   "id": "e6571767",
   "metadata": {},
   "outputs": [],
   "source": [
    "def mdot(p, q):\n",
    "    \"\"\"\" mostely negative \"\"\"\n",
    "    return p[0]*q[0] - np.dot(p[1:], q[1:])\n",
    "\n",
    "def boost(v, beta):\n",
    "    \"\"\"Lorentz boost of 4-vector v by 3-velocity beta\"\"\"\n",
    "    b2 = np.dot(beta, beta)\n",
    "    if b2 >= 1.0:\n",
    "        raise ValueError(\"Velocity must be less than the speed of light\")\n",
    "    if b2 == 0.0:\n",
    "        raise ValueError(\"Velocity must be non-zero\")\n",
    "    g = 1.0 / np.sqrt(1.0 - b2)\n",
    "\n",
    "    id3 = np.identity(3)\n",
    "    bb_norm = np.outer(beta, beta) / b2\n",
    "\n",
    "    l = np.zeros((4, 4))\n",
    "    l[0, 0] = g\n",
    "    l[0, 1:] = g * beta\n",
    "    l[1:, 0] = g * beta\n",
    "    l[1:, 1:] = id3 + bb_norm * (g - 1)\n",
    "\n",
    "    return np.dot(l, v)"
   ]
  },
  {
   "cell_type": "code",
   "execution_count": 42,
   "id": "f6e4812d",
   "metadata": {},
   "outputs": [],
   "source": [
    "def build_2to3_momenta(d12, md23, d34, d45, md15, mt_2, phi0=0.1, theta0=0.2):\n",
    "    \"\"\"\n",
    "    Reconstruct 2->3 kinematics (two massive, three massless).\n",
    "    All momenta outgoing: k0,k1,k2,k3,k4.\n",
    "    \"\"\"\n",
    "    # 1 and 2 incoming massive\n",
    "    s = 2*d12 + 2*mt_2\n",
    "\n",
    "    if s <= 4*mt_2:\n",
    "        raise ValueError(\"Invariant mass too small for top pair production\")\n",
    "\n",
    "    # (p3+p4+p5)^2 = s\n",
    "    d35 = s/2 - d34 - d45\n",
    "    \n",
    "    # CoM frame\n",
    "    E1 = np.sqrt(s)/2\n",
    "    p1 = np.array([E1, 0, 0, np.sqrt(E1**2 - mt_2)])\n",
    "    p2 = np.array([E1, 0, 0, -np.sqrt(E1**2 - mt_2)])\n",
    "\n",
    "    # treat 3 and 4 (massless outgoing) as a cluster of mass M34\n",
    "    M34_2 = 2*d34\n",
    "    if M34_2 < 0:\n",
    "        raise ValueError(\"Invariant mass squared of cluster 34 is negative\")\n",
    "\n",
    "    # in CoM frame 5 and 34 are back-to-back\n",
    "    E5 = (s - M34_2)/(2*np.sqrt(s))\n",
    "    if E5 < 0:\n",
    "        raise ValueError(\"Invariant mass too large for given s\")\n",
    "    p5L = E1*E5 - d15\n",
    "    if p5L**2 > E5**2:\n",
    "        raise ValueError(\"No real solution for p5L\")\n",
    "    p5T = np.sqrt(E5**2 - p5L**2)\n",
    "\n",
    "    p5 = np.array([E5, p5T, 0.0, p5L]) # choose eventplane y=0\n",
    "\n",
    "    # Clustern 34 in its restframe (3 and 4 outgoing massless/back-to-back in cluster restframe)\n",
    "    M34 = np.sqrt(M34_2)\n",
    "    E = M34 / 2\n",
    "\n",
    "    Q = p1 + p2 - p5\n",
    "    beta = Q[1:] / Q[0]\n",
    "    beta_2 = np.dot(beta, beta)\n",
    "    \n",
    "    # solve for angles of p3 in 34 restframe\n",
    "    def equations(x):\n",
    "        theta, phi = x\n",
    "        p3_star = np.array([E,\n",
    "                            E*np.sin(theta)*np.cos(phi),\n",
    "                            E*np.sin(theta)*np.sin(phi),\n",
    "                            E*np.cos(theta)])\n",
    "        p3_com = boost(p3_star, beta)\n",
    "        inv35 = mdot(p3_com, p5)\n",
    "        inv23 = mdot(p2, p3_com)\n",
    "        return [inv35 - d35, inv23 - d23]\n",
    "\n",
    "    sol = root(equations, [theta0, phi0])\n",
    "    if not sol.success:\n",
    "        raise RuntimeError(\"Angle solve did not converge: \" + sol.message)\n",
    "    theta_, phi_ = sol.x\n",
    "\n",
    "    # p3 and p4 in 34 restframe\n",
    "    p3_ = np.array([E,\n",
    "                        k*np.sin(theta_)*np.cos(phi_),\n",
    "                        k*np.sin(theta_)*np.sin(phi_),\n",
    "                        k*np.cos(theta_)])\n",
    "    p3 = boost(p3_star, beta)\n",
    "    p4 = Q - p3\n",
    "\n",
    "    # 8. Convert to all–outgoing momenta\n",
    "    k1 = -p1\n",
    "    k2 = -p2\n",
    "    k3 = p3\n",
    "    k4 = p4\n",
    "    k5 = p5\n",
    "\n",
    "    return k1, k2, k3, k4, k5"
   ]
  },
  {
   "cell_type": "code",
   "execution_count": 43,
   "id": "99d9f884",
   "metadata": {},
   "outputs": [],
   "source": [
    "# invariants from example \n",
    "d12 = -11/7\n",
    "d23 = -7/5\n",
    "d34 = -5/27\n",
    "d45 = -17/5\n",
    "d15 = -11/17\n",
    "\n",
    "mt2 = 1.\n",
    "\n",
    "# They are purely mathematical: do not match physical momenta"
   ]
  },
  {
   "cell_type": "code",
   "execution_count": 44,
   "id": "f5fc95ae",
   "metadata": {},
   "outputs": [],
   "source": [
    "# p1, p2, p3, p4, p5 = build_2to3_momenta(-d12, d23, -d34, -d45, d15, mt2, phi0=0.4, theta0=0.6)"
   ]
  },
  {
   "cell_type": "code",
   "execution_count": 45,
   "id": "925002b1",
   "metadata": {},
   "outputs": [],
   "source": [
    "def mom_to_inv(p1, p2, p3, p4, p5):\n",
    "    d12 = mdot(p1, p2)\n",
    "    d23 = mdot(p2, p3)\n",
    "    d34 = mdot(p3, p4)\n",
    "    d45 = mdot(p4, p5)\n",
    "    d15 = mdot(p1, p5)\n",
    "    mt2 = mdot(p1, p1)\n",
    "\n",
    "    mt2_check = mdot(p2, p2)\n",
    "    if abs(mt2 - mt2_check) > 0.000000001:\n",
    "        raise ValueError(f\"Masses of p1 and p2 do not match: {mt2} vs {mt2_check}\")\n",
    "    return d12, d23, d34, d45, d15, mt2"
   ]
  },
  {
   "cell_type": "code",
   "execution_count": 46,
   "id": "d0a9a558",
   "metadata": {},
   "outputs": [
    {
     "name": "stdout",
     "output_type": "stream",
     "text": [
      "p1 + p2 + p3 + p4 + p5 =  [-5.68434189e-14 -9.09494702e-13  2.55795385e-13 -5.68434189e-14]\n",
      "Invariants are given by (0->ttqqg convention): 103012.79348674789 -75182.78423934056 500000 -319871.570505173 318325.75235540996 29821.8360999999\n"
     ]
    }
   ],
   "source": [
    "p3 = -np.array([500, 0, 0, 500])\n",
    "p4 = -np.array([500, 0, 0, -500])\n",
    "p5 = np.array([367.165370413252, 208.121874544348, 131.137536743547, 272.577770597094])\n",
    "p1 = np.array([451.160381942158, -254.955478242156, -127.963213069012, -303.886449763003])\n",
    "p2 = np.array([181.67424764459, 46.8336036978071, -3.17432367453475, 31.3086791659089])\n",
    "\n",
    "print('p1 + p2 + p3 + p4 + p5 = ', p1 + p2 + p3 + p4 + p5)\n",
    "d12, d23, d34, d45, d15, mt2 = mom_to_inv(p1, p2, p3, p4, p5)\n",
    "print('Invariants are given by (0->ttqqg convention):', d12, d23, d34, d45, d15, mt2)"
   ]
  },
  {
   "cell_type": "code",
   "execution_count": 47,
   "id": "7d5aa211",
   "metadata": {},
   "outputs": [
    {
     "name": "stdout",
     "output_type": "stream",
     "text": [
      "s34 invariant check (should be 2*d34): 1000000 1000000\n",
      "Normalized invariants are given by (0->ttqqg convention): 0.1030127934867479 -0.07518278423934056 0.5 -0.319871570505173 0.31832575235540994 0.029821836099999898\n"
     ]
    }
   ],
   "source": [
    "# normalization of invariants according to paper\n",
    "\n",
    "s34 = mdot(p3 + p4, p3 + p4)\n",
    "\n",
    "print('s34 invariant check (should be 2*d34):', s34, 2*d34)\n",
    "\n",
    "d12_ = d12/s34\n",
    "d23_ = d23/s34\n",
    "d34_ = d34/s34\n",
    "d45_ = d45/s34\n",
    "d15_ = d15/s34\n",
    "mt2_ = mt2/s34\n",
    "\n",
    "print('Normalized invariants are given by (0->ttqqg convention):', d12_, d23_, d34_, d45_, d15_, mt2_)"
   ]
  }
 ],
 "metadata": {
  "kernelspec": {
   "display_name": "general",
   "language": "python",
   "name": "python3"
  },
  "language_info": {
   "codemirror_mode": {
    "name": "ipython",
    "version": 3
   },
   "file_extension": ".py",
   "mimetype": "text/x-python",
   "name": "python",
   "nbconvert_exporter": "python",
   "pygments_lexer": "ipython3",
   "version": "3.12.8"
  }
 },
 "nbformat": 4,
 "nbformat_minor": 5
}
